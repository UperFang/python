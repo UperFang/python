{
 "cells": [
  {
   "cell_type": "markdown",
   "metadata": {},
   "source": [
    "# Markdown学习笔记"
   ]
  },
  {
   "cell_type": "markdown",
   "metadata": {},
   "source": [
    "## 1、基础操作"
   ]
  },
  {
   "cell_type": "markdown",
   "metadata": {},
   "source": [
    "## 2、标题"
   ]
  },
  {
   "cell_type": "markdown",
   "metadata": {},
   "source": [
    "### 使用=和-可以表记一级和二级标题\n",
    "格式如：\n",
    "我展示的是一级标题\n",
    "============\n",
    "我展示的二级标题\n",
    "-----------------------"
   ]
  },
  {
   "cell_type": "markdown",
   "metadata": {},
   "source": [
    "### 使用#可以表示1-6级标题"
   ]
  },
  {
   "cell_type": "markdown",
   "metadata": {},
   "source": [
    "## 3、段落格式\n",
    "使用2个以上的空格加上回车\n",
    "\n",
    "或使用空行来换行\n",
    "### 字体\n",
    "通过加*、_  \n",
    "来设置斜体、粗体、斜粗体，分别为1、2、3个,\n",
    "### 分隔线\n",
    "三个以上的*、-\n",
    "***\n",
    "---\n",
    "两个波浪号~~删除线~~~  \n",
    "下划线<u>带下划线文本</u>  \n",
    "脚注\n"
   ]
  },
  {
   "cell_type": "markdown",
   "metadata": {},
   "source": [
    "## 4、列表\n",
    "无序列表：星号、+、-  \n",
    "**要加个空格不然就是斜体了**\n",
    "* 1\n",
    "* 2\n",
    "* 3"
   ]
  },
  {
   "cell_type": "markdown",
   "metadata": {},
   "source": [
    "数字加点序列表\n",
    "1. 第一\n",
    "2. 第二\n",
    "3. 第三"
   ]
  },
  {
   "cell_type": "markdown",
   "metadata": {},
   "source": [
    "列表嵌套：在字列表的前面加四个空格  \n",
    "1. 第一项\n",
    "    * 第一项嵌套的第一个元素"
   ]
  },
  {
   "cell_type": "markdown",
   "metadata": {},
   "source": [
    "## 5、区块\n",
    "区块引用在段落开头使用>符号，后面加空格\n",
    "> 区块引用\n",
    "\n",
    "区块可以嵌套，加多个>>即可\n",
    "> 区块1\n",
    ">> 区块2\n",
    ">>> 区块3\n",
    "\n",
    "区块中可以加列表\n",
    "> 区块中使用列表\n",
    "> 1. first\n",
    "> 2. second\n",
    "\n",
    "列表用使用区块> 前加四个空格，和嵌套一样\n",
    "1. 第一项\n",
    "    > 区块1\n",
    "    > 区块2\n",
    "2. 第二项\n",
    "\n"
   ]
  },
  {
   "cell_type": "markdown",
   "metadata": {},
   "source": [
    "## 6、Markdown代码\n",
    "一个函数或代码片段可以用\n",
    "\n",
    "`printf()`函数  \n",
    "\n",
    "代码区块用四个空格或者**Tab  \n",
    "\n",
    "    def hello():\n",
    "        printf('hello')\n",
    "\n",
    "也可以用```包裹段代码"
   ]
  },
  {
   "cell_type": "markdown",
   "metadata": {},
   "source": [
    "## 6、链接\n",
    "使用方法：  \n",
    "[链接名称]（链接地址）  \n",
    "或者  \n",
    "<链接地址>  \n",
    "例如：  \n",
    "百度链接 [baidu](http://baidu.com)  \n",
    "直接使用链接地址：<www.baidu.com >  \n",
    "\n",
    "**高级链接**\n",
    "这个链接用 1 作为网址变量 [Google][1]  \n",
    "这个链接用 runoob 作为网址变量 [Runoob][runoob]  \n",
    "然后在文档的结尾为变量赋值（网址）  \n",
    "\n",
    "  [1]: http://www.google.com/ \n",
    "  [runoob]: http://www.runoob.com/"
   ]
  },
  {
   "cell_type": "markdown",
   "metadata": {},
   "source": [
    "## 7、图片\n",
    "图片格式`![alt 标题](图片地址)  `\n",
    "![RUNOOB 图标](http://static.runoob.com/images/runoob-logo.png)\n",
    "![RUNOOB 图标](http://static.runoob.com/images/runoob-logo.png \"RUNOOB\")  \n",
    "这个链接用 1 作为网址变量 [RUNOOB][1].\n",
    "然后在文档的结尾为变量赋值（网址）\n",
    "\n",
    "[1]: http://static.runoob.com/images/runoob-logo.png  \n",
    "Markdown 还没有办法指定图片的高度与宽度，如果你需要的话，你可以使用普通的 `<img>` 标签。  \n",
    "<img src=\"http://static.runoob.com/images/runoob-logo.png\" width=\"50%\">"
   ]
  },
  {
   "cell_type": "markdown",
   "metadata": {},
   "source": [
    "## 8、表格\n",
    "制作表格用`|`来分隔，用`-`来分隔表头和其他行  \n",
    "格式：  \n",
    "`| 表头 | 表头|\n",
    " |------|-----|\n",
    " |  1  |  2  |`  \n",
    "效果：  \n",
    "| 表头   | 表头   |  \n",
    "| ------ | ------ |  \n",
    "| 单元格 | 单元格 |  \n",
    "| 单元格 | 单元格 |  \n",
    "jupyter不支持？   \n",
    "设置对齐方式：  \n",
    "-: 设置内容和标题栏居右对齐。  \n",
    ":- 设置内容和标题栏居左对齐。  \n",
    ":-: 设置内容和标题栏居中对齐。  \n",
    "| 左对齐 | 右对齐 | 居中对齐 |  \n",
    "| :-----| ----: | :----: |  \n",
    "| 单元格 | 单元格 | 单元格 |  \n",
    "| 单元格 | 单元格 | 单元格 |  \n"
   ]
  },
  {
   "cell_type": "markdown",
   "metadata": {},
   "source": []
  }
 ],
 "metadata": {
  "kernelspec": {
   "display_name": "Python 3",
   "language": "python",
   "name": "python3"
  },
  "language_info": {
   "codemirror_mode": {
    "name": "ipython",
    "version": 3
   },
   "file_extension": ".py",
   "mimetype": "text/x-python",
   "name": "python",
   "nbconvert_exporter": "python",
   "pygments_lexer": "ipython3",
   "version": "3.8.3"
  }
 },
 "nbformat": 4,
 "nbformat_minor": 4
}
